{
 "cells": [
  {
   "cell_type": "code",
   "execution_count": 1,
   "id": "aceabb95",
   "metadata": {},
   "outputs": [],
   "source": [
    "arr = [2, 1, 8, 9, 12, 15, 11, 19]"
   ]
  },
  {
   "cell_type": "code",
   "execution_count": 2,
   "id": "6340e35c",
   "metadata": {},
   "outputs": [
    {
     "data": {
      "text/plain": [
       "12"
      ]
     },
     "execution_count": 2,
     "metadata": {},
     "output_type": "execute_result"
    }
   ],
   "source": [
    "## Random Access \n",
    "arr[4]"
   ]
  },
  {
   "cell_type": "code",
   "execution_count": 3,
   "id": "995f20ac",
   "metadata": {},
   "outputs": [
    {
     "data": {
      "text/plain": [
       "8"
      ]
     },
     "execution_count": 3,
     "metadata": {},
     "output_type": "execute_result"
    }
   ],
   "source": [
    "len(arr)"
   ]
  },
  {
   "cell_type": "code",
   "execution_count": 4,
   "id": "a6fb6f8d",
   "metadata": {},
   "outputs": [
    {
     "data": {
      "text/plain": [
       "range(0, 8)"
      ]
     },
     "execution_count": 4,
     "metadata": {},
     "output_type": "execute_result"
    }
   ],
   "source": [
    "range(len(arr))"
   ]
  },
  {
   "cell_type": "code",
   "execution_count": 7,
   "id": "30814d85",
   "metadata": {},
   "outputs": [
    {
     "name": "stdout",
     "output_type": "stream",
     "text": [
      "Searching element is present at the index 5\n"
     ]
    }
   ],
   "source": [
    "## Search for an element \"15\" and if it's present in an array, return the index of that element\n",
    "## Suppose the searching element is not present in an array, return -1\n",
    "## Time complexity : O(n)\n",
    "## Space complexity: O(1)\n",
    "## Function definition\n",
    "def linearSearch(arr, x):\n",
    "    for i in range(len(arr)):\n",
    "        if arr[i] == x:\n",
    "            return i\n",
    "    return -1\n",
    "\n",
    "## Driver code\n",
    "arr = [2, 1, 8, 9, 12, 15, 11, 19]\n",
    "x = 15\n",
    "## Function calling\n",
    "result = linearSearch(arr, x)\n",
    "print(\"Searching element is present at the index\", result)"
   ]
  },
  {
   "cell_type": "code",
   "execution_count": 10,
   "id": "75f47c35",
   "metadata": {},
   "outputs": [],
   "source": [
    "## Insert an element 5 at index 2\n",
    "## list.insert(index, element)\n",
    "## Time complexity: O(n)\n",
    "arr.insert(2, 5)"
   ]
  },
  {
   "cell_type": "code",
   "execution_count": 11,
   "id": "354842c8",
   "metadata": {},
   "outputs": [
    {
     "data": {
      "text/plain": [
       "[2, 1, 5, 8, 9, 12, 2, 15, 11, 19]"
      ]
     },
     "execution_count": 11,
     "metadata": {},
     "output_type": "execute_result"
    }
   ],
   "source": [
    "arr"
   ]
  },
  {
   "cell_type": "code",
   "execution_count": 12,
   "id": "e7d5a11d",
   "metadata": {},
   "outputs": [],
   "source": [
    "## Remove an element 8 from the array\n",
    "## list.remove(element)\n",
    "## Time complexity: O(n)\n",
    "arr.remove(8)"
   ]
  },
  {
   "cell_type": "code",
   "execution_count": 13,
   "id": "7d7aface",
   "metadata": {},
   "outputs": [
    {
     "data": {
      "text/plain": [
       "[2, 1, 5, 9, 12, 2, 15, 11, 19]"
      ]
     },
     "execution_count": 13,
     "metadata": {},
     "output_type": "execute_result"
    }
   ],
   "source": [
    "arr"
   ]
  },
  {
   "cell_type": "code",
   "execution_count": 14,
   "id": "017f1722",
   "metadata": {},
   "outputs": [
    {
     "data": {
      "text/plain": [
       "2"
      ]
     },
     "execution_count": 14,
     "metadata": {},
     "output_type": "execute_result"
    }
   ],
   "source": [
    "## Count the frequency of an element present inside the array\n",
    "arr.count(2)"
   ]
  },
  {
   "cell_type": "code",
   "execution_count": 15,
   "id": "3e80af6f",
   "metadata": {},
   "outputs": [
    {
     "data": {
      "text/plain": [
       "1"
      ]
     },
     "execution_count": 15,
     "metadata": {},
     "output_type": "execute_result"
    }
   ],
   "source": [
    "arr.count(15)"
   ]
  },
  {
   "cell_type": "code",
   "execution_count": 16,
   "id": "d15bf29c",
   "metadata": {},
   "outputs": [
    {
     "data": {
      "text/plain": [
       "[2, 1, 5, 9, 12, 2, 15, 11, 19]"
      ]
     },
     "execution_count": 16,
     "metadata": {},
     "output_type": "execute_result"
    }
   ],
   "source": [
    "arr"
   ]
  },
  {
   "cell_type": "code",
   "execution_count": 17,
   "id": "1a880de6",
   "metadata": {},
   "outputs": [
    {
     "data": {
      "text/plain": [
       "12"
      ]
     },
     "execution_count": 17,
     "metadata": {},
     "output_type": "execute_result"
    }
   ],
   "source": [
    "## Delete an element providing the index \n",
    "arr.pop(4)"
   ]
  },
  {
   "cell_type": "code",
   "execution_count": 18,
   "id": "d1e9068a",
   "metadata": {},
   "outputs": [
    {
     "data": {
      "text/plain": [
       "[2, 1, 5, 9, 2, 15, 11, 19]"
      ]
     },
     "execution_count": 18,
     "metadata": {},
     "output_type": "execute_result"
    }
   ],
   "source": [
    "arr"
   ]
  },
  {
   "cell_type": "code",
   "execution_count": 19,
   "id": "216662bc",
   "metadata": {},
   "outputs": [],
   "source": [
    "## Sort the array\n",
    "arr.sort()"
   ]
  },
  {
   "cell_type": "code",
   "execution_count": 20,
   "id": "f38a8865",
   "metadata": {},
   "outputs": [
    {
     "data": {
      "text/plain": [
       "[1, 2, 2, 5, 9, 11, 15, 19]"
      ]
     },
     "execution_count": 20,
     "metadata": {},
     "output_type": "execute_result"
    }
   ],
   "source": [
    "arr"
   ]
  },
  {
   "cell_type": "code",
   "execution_count": 21,
   "id": "48140da4",
   "metadata": {},
   "outputs": [
    {
     "data": {
      "text/plain": [
       "5"
      ]
     },
     "execution_count": 21,
     "metadata": {},
     "output_type": "execute_result"
    }
   ],
   "source": [
    "## To extract the index of any given element\n",
    "arr.index(11)"
   ]
  },
  {
   "cell_type": "code",
   "execution_count": 22,
   "id": "b61cba36",
   "metadata": {},
   "outputs": [],
   "source": [
    "## To extent the orginal array\n",
    "arr.extend([2, 5, 7, 10])"
   ]
  },
  {
   "cell_type": "code",
   "execution_count": 23,
   "id": "5230d65b",
   "metadata": {},
   "outputs": [
    {
     "data": {
      "text/plain": [
       "[1, 2, 2, 5, 9, 11, 15, 19, 2, 5, 7, 10]"
      ]
     },
     "execution_count": 23,
     "metadata": {},
     "output_type": "execute_result"
    }
   ],
   "source": [
    "arr"
   ]
  },
  {
   "cell_type": "code",
   "execution_count": 24,
   "id": "d290b2e1",
   "metadata": {},
   "outputs": [],
   "source": [
    "## To reverse the entire list\n",
    "arr.reverse()"
   ]
  },
  {
   "cell_type": "code",
   "execution_count": 25,
   "id": "209b4f62",
   "metadata": {},
   "outputs": [
    {
     "data": {
      "text/plain": [
       "[10, 7, 5, 2, 19, 15, 11, 9, 5, 2, 2, 1]"
      ]
     },
     "execution_count": 25,
     "metadata": {},
     "output_type": "execute_result"
    }
   ],
   "source": [
    "arr"
   ]
  },
  {
   "cell_type": "code",
   "execution_count": null,
   "id": "9b5b9397",
   "metadata": {},
   "outputs": [],
   "source": []
  }
 ],
 "metadata": {
  "kernelspec": {
   "display_name": "Python 3 (ipykernel)",
   "language": "python",
   "name": "python3"
  },
  "language_info": {
   "codemirror_mode": {
    "name": "ipython",
    "version": 3
   },
   "file_extension": ".py",
   "mimetype": "text/x-python",
   "name": "python",
   "nbconvert_exporter": "python",
   "pygments_lexer": "ipython3",
   "version": "3.9.12"
  }
 },
 "nbformat": 4,
 "nbformat_minor": 5
}
