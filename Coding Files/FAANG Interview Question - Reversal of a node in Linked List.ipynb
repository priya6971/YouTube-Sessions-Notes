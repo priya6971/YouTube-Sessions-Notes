{
 "cells": [
  {
   "cell_type": "code",
   "execution_count": 8,
   "id": "f28bb8b7",
   "metadata": {},
   "outputs": [
    {
     "name": "stdout",
     "output_type": "stream",
     "text": [
      "Original Linked List\n",
      "12  8  9  10  12  14  \n",
      "Reversal Linked List\n",
      "14  12  10  9  8  12  "
     ]
    }
   ],
   "source": [
    "class Node:\n",
    "    def __init__(self, data):\n",
    "        self.data = data\n",
    "        self.next = None\n",
    "\n",
    "class LinkedList:\n",
    "    def __init__(self):\n",
    "        self.head = None\n",
    "    \n",
    "    ## insert at the front/beginning of the linked list\n",
    "    def insertAtEnd(self, new_data):\n",
    "        ## creation of the new node\n",
    "        new_node = Node(new_data)\n",
    "        \n",
    "        ## linked list is empty\n",
    "        if self.head is None:\n",
    "            self.head = new_node\n",
    "            return\n",
    "        \n",
    "        ## insertion at the end\n",
    "        temp = self.head\n",
    "        while temp.next:\n",
    "            temp = temp.next\n",
    "        \n",
    "        temp.next = new_node\n",
    "    \n",
    "    ## reversal of the linked list\n",
    "    def reverseList(self):\n",
    "        prev = None\n",
    "        next_ptr = None\n",
    "        curr = self.head\n",
    "        \n",
    "        while curr:\n",
    "            next_ptr = curr.next\n",
    "            curr.next = prev\n",
    "            prev = curr\n",
    "            curr = next_ptr\n",
    "        ## linkage of head node to the last node is required\n",
    "        self.head = prev\n",
    "    \n",
    "    \n",
    "    ## print the linked list\n",
    "    def printList(self):\n",
    "        temp = self.head\n",
    "        while temp:\n",
    "            print(str(temp.data)+\" \",end=\" \")\n",
    "            temp = temp.next\n",
    "   \n",
    "    \n",
    "## Driver code\n",
    "llist = LinkedList()\n",
    "## function calling\n",
    "llist.insertAtEnd(12)\n",
    "llist.insertAtEnd(8)\n",
    "llist.insertAtEnd(9)\n",
    "llist.insertAtEnd(10)\n",
    "llist.insertAtEnd(12)\n",
    "llist.insertAtEnd(14)\n",
    "print(\"Original Linked List\")\n",
    "llist.printList()\n",
    "print()\n",
    "print(\"Reversal Linked List\")\n",
    "llist.reverseList()\n",
    "llist.printList()"
   ]
  },
  {
   "cell_type": "code",
   "execution_count": null,
   "id": "eb7ff20f",
   "metadata": {},
   "outputs": [],
   "source": []
  }
 ],
 "metadata": {
  "kernelspec": {
   "display_name": "Python 3 (ipykernel)",
   "language": "python",
   "name": "python3"
  },
  "language_info": {
   "codemirror_mode": {
    "name": "ipython",
    "version": 3
   },
   "file_extension": ".py",
   "mimetype": "text/x-python",
   "name": "python",
   "nbconvert_exporter": "python",
   "pygments_lexer": "ipython3",
   "version": "3.9.12"
  }
 },
 "nbformat": 4,
 "nbformat_minor": 5
}
