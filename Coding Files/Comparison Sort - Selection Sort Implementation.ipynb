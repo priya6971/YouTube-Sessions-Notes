{
 "cells": [
  {
   "cell_type": "code",
   "execution_count": 3,
   "id": "7433c2a6",
   "metadata": {},
   "outputs": [
    {
     "name": "stdout",
     "output_type": "stream",
     "text": [
      "Selection Sort of the given array elements is: [11, 17, 20, 29, 37, 38, 50, 75]\n"
     ]
    }
   ],
   "source": [
    "## Time Complexity : O(n^2)\n",
    "## Function Definition\n",
    "def selectionSort(arr):\n",
    "    n = len(arr)\n",
    "    for i in range(n):\n",
    "        ## to store the index of the minimum element\n",
    "        min_idx = i\n",
    "        for j in range(i+1, n):\n",
    "            if arr[j] < arr[min_idx]:\n",
    "                min_idx = j\n",
    "                \n",
    "        ## swap of the element at i and min_idx\n",
    "        arr[i], arr[min_idx] = arr[min_idx], arr[i]\n",
    "    \n",
    "    return arr\n",
    "## Driver code\n",
    "arr = [50, 38, 75, 29, 11, 17, 20, 37]\n",
    "## Function calling\n",
    "result = selectionSort(arr)\n",
    "print(\"Selection Sort of the given array elements is:\", result)"
   ]
  },
  {
   "cell_type": "code",
   "execution_count": null,
   "id": "1181fba4",
   "metadata": {},
   "outputs": [],
   "source": []
  }
 ],
 "metadata": {
  "kernelspec": {
   "display_name": "Python 3 (ipykernel)",
   "language": "python",
   "name": "python3"
  },
  "language_info": {
   "codemirror_mode": {
    "name": "ipython",
    "version": 3
   },
   "file_extension": ".py",
   "mimetype": "text/x-python",
   "name": "python",
   "nbconvert_exporter": "python",
   "pygments_lexer": "ipython3",
   "version": "3.9.12"
  }
 },
 "nbformat": 4,
 "nbformat_minor": 5
}
