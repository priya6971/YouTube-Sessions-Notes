{
 "cells": [
  {
   "cell_type": "code",
   "execution_count": 10,
   "id": "48d57eec",
   "metadata": {},
   "outputs": [
    {
     "name": "stdout",
     "output_type": "stream",
     "text": [
      "[8, 10, 12, 17, 20, 27, 50]\n"
     ]
    }
   ],
   "source": [
    "## Implementation of MergeSort\n",
    "## T(n) = 2T(n/2) + n\n",
    "## Master's Theorem - O(nlogn)\n",
    "## function definition of mergeProcedure\n",
    "def mergeProcedure(arr, i, mid, j):\n",
    "    ## number of elements in left subarray\n",
    "    n1 = mid - i + 1\n",
    "    ## number of elements in right subarray\n",
    "    n2 = j - mid\n",
    "    \n",
    "    ## initialize left and right subarrays of size n1 and n2\n",
    "    lsubarray = [0] * n1\n",
    "    rsubarray = [0] * n2\n",
    "    \n",
    "    ## copy the elements from original to left and right subarray\n",
    "    for m in range(n1):\n",
    "        lsubarray[m] = arr[i + m]\n",
    "    \n",
    "    for n in range(n2):\n",
    "        rsubarray[n] = arr[mid + 1 + n]\n",
    "        \n",
    "    p = 0\n",
    "    q = 0\n",
    "    k = i\n",
    "    \n",
    "    ## comparison between the elements in lsubarray and rsubarray\n",
    "    while p < n1 and q < n2:\n",
    "        if lsubarray[p] <= rsubarray[q]:\n",
    "            arr[k] = lsubarray[p]\n",
    "            p += 1\n",
    "        else:\n",
    "            arr[k] = rsubarray[q]\n",
    "            q += 1\n",
    "        k += 1\n",
    "    \n",
    "    ## copy the remaining elements from left subarray\n",
    "    while p < n1:\n",
    "        arr[k] = lsubarray[p]\n",
    "        p += 1\n",
    "        k += 1\n",
    "    ## copy the remaining elements from right subarrray\n",
    "    while q < n2:\n",
    "        arr[k] = rsubarray[q]\n",
    "        q += 1\n",
    "        k += 1\n",
    "\n",
    "\n",
    "## function definition of mergeSort\n",
    "def mergeSort(arr, i, j):\n",
    "    ## big problem\n",
    "    if(i < j):\n",
    "        ## 1. Divide the bigger problem intro subproblems\n",
    "        mid = i + (j - i)//2\n",
    "        ## 2. Conquer the subproblems via recursion\n",
    "        ## left subarray\n",
    "        mergeSort(arr, i, mid)\n",
    "        ## right subarray\n",
    "        mergeSort(arr, mid+1, j)\n",
    "        ## 3. Combine the solution of left and right subarray\n",
    "        ## function calling of combine part\n",
    "        mergeProcedure(arr, i, mid, j)\n",
    "    return arr\n",
    "        \n",
    "## Driver code\n",
    "arr = [50, 27, 20, 10, 12, 17, 8]\n",
    "i = 0\n",
    "j = len(arr) - 1\n",
    "## function calling\n",
    "result = mergeSort(arr, i, j)\n",
    "print(result)"
   ]
  },
  {
   "cell_type": "code",
   "execution_count": null,
   "id": "be2b82f7",
   "metadata": {},
   "outputs": [],
   "source": []
  }
 ],
 "metadata": {
  "kernelspec": {
   "display_name": "Python 3 (ipykernel)",
   "language": "python",
   "name": "python3"
  },
  "language_info": {
   "codemirror_mode": {
    "name": "ipython",
    "version": 3
   },
   "file_extension": ".py",
   "mimetype": "text/x-python",
   "name": "python",
   "nbconvert_exporter": "python",
   "pygments_lexer": "ipython3",
   "version": "3.10.8"
  }
 },
 "nbformat": 4,
 "nbformat_minor": 5
}
