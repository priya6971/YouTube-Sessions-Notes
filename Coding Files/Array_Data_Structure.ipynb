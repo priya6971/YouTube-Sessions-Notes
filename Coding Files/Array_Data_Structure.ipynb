{
  "nbformat": 4,
  "nbformat_minor": 0,
  "metadata": {
    "colab": {
      "name": "Array Data Structure.ipynb",
      "provenance": []
    },
    "kernelspec": {
      "name": "python3",
      "display_name": "Python 3"
    },
    "language_info": {
      "name": "python"
    }
  },
  "cells": [
    {
      "cell_type": "code",
      "source": [
        "arr = [1, 4, 6, 8, 10]"
      ],
      "metadata": {
        "id": "LHG1ZwpuLKSA"
      },
      "execution_count": null,
      "outputs": []
    },
    {
      "cell_type": "markdown",
      "source": [
        "**Random Access in an array -> O(1)**"
      ],
      "metadata": {
        "id": "aETBKuVqR1BJ"
      }
    },
    {
      "cell_type": "code",
      "source": [
        "arr[3]"
      ],
      "metadata": {
        "colab": {
          "base_uri": "https://localhost:8080/"
        },
        "id": "kr0KscQLRt_H",
        "outputId": "fa8ffdd7-6298-46a5-8c03-cfa50f24bb26"
      },
      "execution_count": null,
      "outputs": [
        {
          "output_type": "execute_result",
          "data": {
            "text/plain": [
              "8"
            ]
          },
          "metadata": {},
          "execution_count": 9
        }
      ]
    },
    {
      "cell_type": "markdown",
      "source": [
        "**Search an element having value = 8 in an array -> O(n)**"
      ],
      "metadata": {
        "id": "S5rDkBp0SBbS"
      }
    },
    {
      "cell_type": "code",
      "source": [
        "## Method definition\n",
        "def linearSearch(arr, x):\n",
        "  for i in range(len(arr)):\n",
        "    if arr[i] == x:\n",
        "      return i\n",
        "  return -1\n",
        "\n",
        "\n",
        "## Driver code\n",
        "arr = [2, 4, 6, 8, 10]\n",
        "x = 12\n",
        "## Function Calling\n",
        "res = linearSearch(arr, x)\n",
        "print(\"Element is present at index\", res)"
      ],
      "metadata": {
        "colab": {
          "base_uri": "https://localhost:8080/"
        },
        "id": "5OcjoNW-RxEO",
        "outputId": "f7e30a52-ca66-4157-e3ae-1391917f24c8"
      },
      "execution_count": 24,
      "outputs": [
        {
          "output_type": "stream",
          "name": "stdout",
          "text": [
            "Element is present at index -1\n"
          ]
        }
      ]
    },
    {
      "cell_type": "markdown",
      "source": [
        "**Insertion of an element in an array -> O(n)**"
      ],
      "metadata": {
        "id": "kTkogA4wT5lc"
      }
    },
    {
      "cell_type": "code",
      "source": [
        "arr = [2, 4, 6, 8, 10]\n",
        "arr.insert(1, 5)\n",
        "arr"
      ],
      "metadata": {
        "colab": {
          "base_uri": "https://localhost:8080/"
        },
        "id": "F0GZTwvNS6qz",
        "outputId": "6a8168a0-d360-434a-b4b7-323f004628fb"
      },
      "execution_count": null,
      "outputs": [
        {
          "output_type": "execute_result",
          "data": {
            "text/plain": [
              "[2, 5, 4, 6, 8, 10]"
            ]
          },
          "metadata": {},
          "execution_count": 18
        }
      ]
    },
    {
      "cell_type": "markdown",
      "source": [
        "**Delete an element from an array -> O(n)**"
      ],
      "metadata": {
        "id": "PEINewsOUkjL"
      }
    },
    {
      "cell_type": "code",
      "source": [
        "arr.remove(5)\n",
        "arr"
      ],
      "metadata": {
        "colab": {
          "base_uri": "https://localhost:8080/"
        },
        "id": "pgC9v0pjUFLe",
        "outputId": "8b36d088-9177-4cd5-a874-56ebb4cd5bbc"
      },
      "execution_count": null,
      "outputs": [
        {
          "output_type": "execute_result",
          "data": {
            "text/plain": [
              "[2, 4, 6, 8, 10]"
            ]
          },
          "metadata": {},
          "execution_count": 19
        }
      ]
    },
    {
      "cell_type": "code",
      "source": [
        "arr_2D = [[2, 4, 6],\n",
        "          [3, 5, 9],\n",
        "          [1, 7, 8]]\n",
        "arr_2D"
      ],
      "metadata": {
        "colab": {
          "base_uri": "https://localhost:8080/"
        },
        "id": "Cv7GuaY1Uu2j",
        "outputId": "0e5372b2-4d4e-47a9-897d-42e0041df294"
      },
      "execution_count": null,
      "outputs": [
        {
          "output_type": "execute_result",
          "data": {
            "text/plain": [
              "[[2, 4, 6], [3, 5, 9], [1, 7, 8]]"
            ]
          },
          "metadata": {},
          "execution_count": 20
        }
      ]
    },
    {
      "cell_type": "markdown",
      "source": [
        "**Extract the element \"7\" from the 2D Array**"
      ],
      "metadata": {
        "id": "a8xht9B_VLNr"
      }
    },
    {
      "cell_type": "code",
      "source": [
        "arr_2D[2][1]"
      ],
      "metadata": {
        "colab": {
          "base_uri": "https://localhost:8080/"
        },
        "id": "VE1PcLx4VA13",
        "outputId": "3bbd0e98-2b04-4a68-d0c1-cf6fedb205f3"
      },
      "execution_count": null,
      "outputs": [
        {
          "output_type": "execute_result",
          "data": {
            "text/plain": [
              "7"
            ]
          },
          "metadata": {},
          "execution_count": 22
        }
      ]
    },
    {
      "cell_type": "code",
      "source": [
        ""
      ],
      "metadata": {
        "id": "s6bsBL2UVIty"
      },
      "execution_count": null,
      "outputs": []
    }
  ]
}