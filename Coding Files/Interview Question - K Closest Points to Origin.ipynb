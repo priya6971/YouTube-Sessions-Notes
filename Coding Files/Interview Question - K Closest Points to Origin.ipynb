{
 "cells": [
  {
   "cell_type": "code",
   "execution_count": 3,
   "id": "99970800",
   "metadata": {},
   "outputs": [
    {
     "name": "stdout",
     "output_type": "stream",
     "text": [
      "K Closest Points to the origin are: [[3, 3], [-2, 4]]\n"
     ]
    }
   ],
   "source": [
    "## Time complexity for the below mentioned code\n",
    "\n",
    "from heapq import heappush, heappop\n",
    "import math\n",
    "## function definition\n",
    "## get_dist is to give the euclidean distance\n",
    "def get_dist(x,y):\n",
    "    return math.sqrt(x**2 + y**2)\n",
    "\n",
    "def kClosest(points, k):\n",
    "    min_heap = []\n",
    "    n = len(points)\n",
    "    for i in range(n):\n",
    "        x = points[i][0]\n",
    "        y = points[i][1]\n",
    "        ## to insert the elements inside the minheap\n",
    "        heappush(min_heap, (get_dist(x,y), points[i]))\n",
    "        \n",
    "    result = []\n",
    "    for i in range(k):\n",
    "        ## to delete the elements from the minheap\n",
    "        result.append(heappop(min_heap)[1])\n",
    "    return result\n",
    "\n",
    "## Driver code\n",
    "points = [[3,3], [5,-1], [-2, 4]]\n",
    "k = 2\n",
    "## function calling\n",
    "result = kClosest(points, k)\n",
    "print(\"K Closest Points to the origin are:\",result)"
   ]
  },
  {
   "cell_type": "code",
   "execution_count": null,
   "id": "cc9e82b4",
   "metadata": {},
   "outputs": [],
   "source": []
  }
 ],
 "metadata": {
  "kernelspec": {
   "display_name": "Python 3 (ipykernel)",
   "language": "python",
   "name": "python3"
  },
  "language_info": {
   "codemirror_mode": {
    "name": "ipython",
    "version": 3
   },
   "file_extension": ".py",
   "mimetype": "text/x-python",
   "name": "python",
   "nbconvert_exporter": "python",
   "pygments_lexer": "ipython3",
   "version": "3.9.12"
  }
 },
 "nbformat": 4,
 "nbformat_minor": 5
}
