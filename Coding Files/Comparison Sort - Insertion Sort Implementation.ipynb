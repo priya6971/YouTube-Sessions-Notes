{
 "cells": [
  {
   "cell_type": "code",
   "execution_count": 5,
   "id": "872a84d8",
   "metadata": {},
   "outputs": [
    {
     "name": "stdout",
     "output_type": "stream",
     "text": [
      "Sorted array after applying the insertion sort is [1, 3, 4, 5, 9]\n"
     ]
    }
   ],
   "source": [
    "## function definition\n",
    "def insertionSort(arr):\n",
    "    for i in range(1, len(arr)):\n",
    "        key = arr[i]\n",
    "        j = i - 1\n",
    "        \n",
    "        while j >= 0 and key < arr[j]:\n",
    "            arr[j+1] = arr[j]\n",
    "            j = j - 1\n",
    "        \n",
    "        arr[j+1] = key\n",
    "    return arr\n",
    "\n",
    "## Driver code\n",
    "arr = [9, 5, 1, 4, 3]\n",
    "## function calling\n",
    "result = insertionSort(arr)\n",
    "print(\"Sorted array after applying the insertion sort is\", result)"
   ]
  },
  {
   "cell_type": "code",
   "execution_count": null,
   "id": "753bf386",
   "metadata": {},
   "outputs": [],
   "source": []
  }
 ],
 "metadata": {
  "kernelspec": {
   "display_name": "Python 3 (ipykernel)",
   "language": "python",
   "name": "python3"
  },
  "language_info": {
   "codemirror_mode": {
    "name": "ipython",
    "version": 3
   },
   "file_extension": ".py",
   "mimetype": "text/x-python",
   "name": "python",
   "nbconvert_exporter": "python",
   "pygments_lexer": "ipython3",
   "version": "3.9.12"
  }
 },
 "nbformat": 4,
 "nbformat_minor": 5
}
