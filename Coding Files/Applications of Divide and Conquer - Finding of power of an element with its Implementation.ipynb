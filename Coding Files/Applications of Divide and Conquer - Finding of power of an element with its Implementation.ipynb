{
 "cells": [
  {
   "cell_type": "code",
   "execution_count": 7,
   "id": "66b9971e",
   "metadata": {},
   "outputs": [
    {
     "name": "stdout",
     "output_type": "stream",
     "text": [
      "The power of an element is: 4096\n"
     ]
    }
   ],
   "source": [
    "## Finding of power of an element when n >= 1\n",
    "## Assignment task: n <= 0\n",
    "## Time complexity : O(logn)\n",
    "## function definition\n",
    "def findPowerOfElement(a,n):\n",
    "    ## small problem\n",
    "    ## if n < 0:\n",
    "    ## if n == 0:\n",
    "    if n == 1:\n",
    "        return a\n",
    "    else:\n",
    "        ## big problem -> Divide and Conquer Approach\n",
    "        mid = n // 2\n",
    "        ## recursive call\n",
    "        b = findPowerOfElement(a,mid)\n",
    "        result = b * b\n",
    "        #even\n",
    "        if n % 2 == 0:\n",
    "            return result\n",
    "        return result * a\n",
    "\n",
    "## Driver code\n",
    "## n = -4\n",
    "a = 2\n",
    "n = 12\n",
    "## function calling\n",
    "result = findPowerOfElement(a,n)\n",
    "print(\"The power of an element is:\", result)"
   ]
  },
  {
   "cell_type": "code",
   "execution_count": null,
   "id": "a74ce536",
   "metadata": {},
   "outputs": [],
   "source": []
  }
 ],
 "metadata": {
  "kernelspec": {
   "display_name": "Python 3 (ipykernel)",
   "language": "python",
   "name": "python3"
  },
  "language_info": {
   "codemirror_mode": {
    "name": "ipython",
    "version": 3
   },
   "file_extension": ".py",
   "mimetype": "text/x-python",
   "name": "python",
   "nbconvert_exporter": "python",
   "pygments_lexer": "ipython3",
   "version": "3.9.12"
  }
 },
 "nbformat": 4,
 "nbformat_minor": 5
}
