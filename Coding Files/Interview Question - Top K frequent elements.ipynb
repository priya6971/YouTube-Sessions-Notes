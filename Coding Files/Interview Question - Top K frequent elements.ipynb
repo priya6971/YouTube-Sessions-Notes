{
 "cells": [
  {
   "cell_type": "code",
   "execution_count": 22,
   "id": "e952ede5",
   "metadata": {},
   "outputs": [
    {
     "name": "stdout",
     "output_type": "stream",
     "text": [
      "The top k frequent elements are: [1, 2]\n"
     ]
    }
   ],
   "source": [
    "from collections import Counter\n",
    "import heapq\n",
    "## function definition\n",
    "def topKfrequentElement(arr, k):\n",
    "    if k == len(arr):\n",
    "        return set(arr)\n",
    "    \n",
    "    count = Counter(arr)\n",
    "    ## count is dictionary which contains unique values as the key and\n",
    "    ## the frequency of those unique elements as the value\n",
    "    #print(count)\n",
    "    return heapq.nlargest(k, count.keys(), key=count.get)\n",
    "    \n",
    "\n",
    "## Driver code\n",
    "arr = [1,1,1,1,2,2,2,3]\n",
    "k = 2\n",
    "## function calling\n",
    "result = topKfrequentElement(arr, k)\n",
    "print(\"The top k frequent elements are:\", result)"
   ]
  },
  {
   "cell_type": "code",
   "execution_count": null,
   "id": "da5c2449",
   "metadata": {},
   "outputs": [],
   "source": []
  }
 ],
 "metadata": {
  "kernelspec": {
   "display_name": "Python 3 (ipykernel)",
   "language": "python",
   "name": "python3"
  },
  "language_info": {
   "codemirror_mode": {
    "name": "ipython",
    "version": 3
   },
   "file_extension": ".py",
   "mimetype": "text/x-python",
   "name": "python",
   "nbconvert_exporter": "python",
   "pygments_lexer": "ipython3",
   "version": "3.9.12"
  }
 },
 "nbformat": 4,
 "nbformat_minor": 5
}
